{
 "cells": [
  {
   "cell_type": "markdown",
   "metadata": {},
   "source": [
    "# Research Question\n",
    "** Insert question here"
   ]
  },
  {
   "cell_type": "markdown",
   "metadata": {},
   "source": [
    "# Data Collection Google Trends\n",
    "** Insert plan for data extraction here"
   ]
  },
  {
   "cell_type": "code",
   "execution_count": 5,
   "metadata": {},
   "outputs": [
    {
     "name": "stdout",
     "output_type": "stream",
     "text": [
      "Requirement already satisfied: pytrends in /opt/anaconda3/envs/info2950/lib/python3.7/site-packages (4.7.3)\n",
      "Requirement already satisfied: requests in /opt/anaconda3/envs/info2950/lib/python3.7/site-packages (from pytrends) (2.24.0)\n",
      "Requirement already satisfied: pandas>=0.25 in /opt/anaconda3/envs/info2950/lib/python3.7/site-packages (from pytrends) (1.1.1)\n",
      "Requirement already satisfied: lxml in /opt/anaconda3/envs/info2950/lib/python3.7/site-packages (from pytrends) (4.5.2)\n",
      "Requirement already satisfied: certifi>=2017.4.17 in /opt/anaconda3/envs/info2950/lib/python3.7/site-packages (from requests->pytrends) (2020.6.20)\n",
      "Requirement already satisfied: urllib3!=1.25.0,!=1.25.1,<1.26,>=1.21.1 in /opt/anaconda3/envs/info2950/lib/python3.7/site-packages (from requests->pytrends) (1.25.10)\n",
      "Requirement already satisfied: chardet<4,>=3.0.2 in /opt/anaconda3/envs/info2950/lib/python3.7/site-packages (from requests->pytrends) (3.0.4)\n",
      "Requirement already satisfied: idna<3,>=2.5 in /opt/anaconda3/envs/info2950/lib/python3.7/site-packages (from requests->pytrends) (2.10)\n",
      "Requirement already satisfied: numpy>=1.15.4 in /Users/adicarmel/.local/lib/python3.7/site-packages (from pandas>=0.25->pytrends) (1.17.3)\n",
      "Requirement already satisfied: pytz>=2017.2 in /opt/anaconda3/envs/info2950/lib/python3.7/site-packages (from pandas>=0.25->pytrends) (2020.1)\n",
      "Requirement already satisfied: python-dateutil>=2.7.3 in /opt/anaconda3/envs/info2950/lib/python3.7/site-packages (from pandas>=0.25->pytrends) (2.8.1)\n",
      "Requirement already satisfied: six>=1.5 in /opt/anaconda3/envs/info2950/lib/python3.7/site-packages (from python-dateutil>=2.7.3->pandas>=0.25->pytrends) (1.15.0)\n"
     ]
    }
   ],
   "source": [
    "!pip install pytrends\n",
    "import pandas as pd\n",
    "import matplotlib.pyplot as plt\n",
    "from pytrends.request import TrendReq\n",
    "import requests\n",
    "import numpy as np\n",
    "import bs4"
   ]
  },
  {
   "cell_type": "code",
   "execution_count": 15,
   "metadata": {},
   "outputs": [
    {
     "data": {
      "text/html": [
       "<div>\n",
       "<style scoped>\n",
       "    .dataframe tbody tr th:only-of-type {\n",
       "        vertical-align: middle;\n",
       "    }\n",
       "\n",
       "    .dataframe tbody tr th {\n",
       "        vertical-align: top;\n",
       "    }\n",
       "\n",
       "    .dataframe thead th {\n",
       "        text-align: right;\n",
       "    }\n",
       "</style>\n",
       "<table border=\"1\" class=\"dataframe\">\n",
       "  <thead>\n",
       "    <tr style=\"text-align: right;\">\n",
       "      <th></th>\n",
       "      <th>FIPS</th>\n",
       "      <th>WMO</th>\n",
       "      <th>ISO3166-1-Alpha-2</th>\n",
       "      <th>UNTERM English Short</th>\n",
       "    </tr>\n",
       "  </thead>\n",
       "  <tbody>\n",
       "    <tr>\n",
       "      <th>1</th>\n",
       "      <td>AF</td>\n",
       "      <td>AF</td>\n",
       "      <td>AF</td>\n",
       "      <td>Afghanistan</td>\n",
       "    </tr>\n",
       "    <tr>\n",
       "      <th>2</th>\n",
       "      <td>AL</td>\n",
       "      <td>AB</td>\n",
       "      <td>AL</td>\n",
       "      <td>Albania</td>\n",
       "    </tr>\n",
       "    <tr>\n",
       "      <th>3</th>\n",
       "      <td>AG</td>\n",
       "      <td>AL</td>\n",
       "      <td>DZ</td>\n",
       "      <td>Algeria</td>\n",
       "    </tr>\n",
       "    <tr>\n",
       "      <th>5</th>\n",
       "      <td>AN</td>\n",
       "      <td></td>\n",
       "      <td>AD</td>\n",
       "      <td>Andorra</td>\n",
       "    </tr>\n",
       "    <tr>\n",
       "      <th>6</th>\n",
       "      <td>AO</td>\n",
       "      <td>AN</td>\n",
       "      <td>AO</td>\n",
       "      <td>Angola</td>\n",
       "    </tr>\n",
       "    <tr>\n",
       "      <th>...</th>\n",
       "      <td>...</td>\n",
       "      <td>...</td>\n",
       "      <td>...</td>\n",
       "      <td>...</td>\n",
       "    </tr>\n",
       "    <tr>\n",
       "      <th>242</th>\n",
       "      <td>VE</td>\n",
       "      <td>VN</td>\n",
       "      <td>VE</td>\n",
       "      <td>Venezuela (Bolivarian Republic of)</td>\n",
       "    </tr>\n",
       "    <tr>\n",
       "      <th>243</th>\n",
       "      <td>VM</td>\n",
       "      <td>VS</td>\n",
       "      <td>VN</td>\n",
       "      <td>Viet Nam</td>\n",
       "    </tr>\n",
       "    <tr>\n",
       "      <th>246</th>\n",
       "      <td>YM</td>\n",
       "      <td>YE</td>\n",
       "      <td>YE</td>\n",
       "      <td>Yemen</td>\n",
       "    </tr>\n",
       "    <tr>\n",
       "      <th>247</th>\n",
       "      <td>ZA</td>\n",
       "      <td>ZB</td>\n",
       "      <td>ZM</td>\n",
       "      <td>Zambia</td>\n",
       "    </tr>\n",
       "    <tr>\n",
       "      <th>248</th>\n",
       "      <td>ZI</td>\n",
       "      <td>ZW</td>\n",
       "      <td>ZW</td>\n",
       "      <td>Zimbabwe</td>\n",
       "    </tr>\n",
       "  </tbody>\n",
       "</table>\n",
       "<p>196 rows × 4 columns</p>\n",
       "</div>"
      ],
      "text/plain": [
       "    FIPS WMO ISO3166-1-Alpha-2                UNTERM English Short\n",
       "1     AF  AF                AF                         Afghanistan\n",
       "2     AL  AB                AL                             Albania\n",
       "3     AG  AL                DZ                             Algeria\n",
       "5     AN                    AD                             Andorra\n",
       "6     AO  AN                AO                              Angola\n",
       "..   ...  ..               ...                                 ...\n",
       "242   VE  VN                VE  Venezuela (Bolivarian Republic of)\n",
       "243   VM  VS                VN                            Viet Nam\n",
       "246   YM  YE                YE                               Yemen\n",
       "247   ZA  ZB                ZM                              Zambia\n",
       "248   ZI  ZW                ZW                            Zimbabwe\n",
       "\n",
       "[196 rows x 4 columns]"
      ]
     },
     "execution_count": 15,
     "metadata": {},
     "output_type": "execute_result"
    }
   ],
   "source": [
    "country_code_data = pd.read_csv(\"country-codes.csv\")\n",
    "country_code_data = country_code_data.dropna(subset=['UNTERM English Short'])\n",
    "country_code_data = country_code_data[[\"FIPS\",\"WMO\",\"ISO3166-1-Alpha-2\",\"UNTERM English Short\"]]\n",
    "country_code_data"
   ]
  },
  {
   "cell_type": "code",
   "execution_count": 22,
   "metadata": {},
   "outputs": [],
   "source": [
    "pytrend = TrendReq()\n",
    "all_country_trends = pd.DataFrame()\n",
    "for country in country_code_data[\"ISO3166-1-Alpha-2\"][:5]:\n",
    "    pytrend.build_payload(kw_list=['corona','coronavirus'], geo=country)\n",
    "    pytrend.interest_over_time()\n",
    "    all_country_trends = pd.concat([all_country_trends, this_country_trends])"
   ]
  },
  {
   "cell_type": "code",
   "execution_count": 23,
   "metadata": {},
   "outputs": [
    {
     "data": {
      "text/html": [
       "<div>\n",
       "<style scoped>\n",
       "    .dataframe tbody tr th:only-of-type {\n",
       "        vertical-align: middle;\n",
       "    }\n",
       "\n",
       "    .dataframe tbody tr th {\n",
       "        vertical-align: top;\n",
       "    }\n",
       "\n",
       "    .dataframe thead th {\n",
       "        text-align: right;\n",
       "    }\n",
       "</style>\n",
       "<table border=\"1\" class=\"dataframe\">\n",
       "  <thead>\n",
       "    <tr style=\"text-align: right;\">\n",
       "      <th></th>\n",
       "    </tr>\n",
       "  </thead>\n",
       "  <tbody>\n",
       "  </tbody>\n",
       "</table>\n",
       "</div>"
      ],
      "text/plain": [
       "Empty DataFrame\n",
       "Columns: []\n",
       "Index: []"
      ]
     },
     "execution_count": 23,
     "metadata": {},
     "output_type": "execute_result"
    }
   ],
   "source": [
    "all_country_trends"
   ]
  },
  {
   "cell_type": "code",
   "execution_count": 20,
   "metadata": {},
   "outputs": [
    {
     "data": {
      "text/plain": [
       "dict_values([{'top':                             query  value\n",
       "0              coronavirus update    100\n",
       "1               coronavirus cases     84\n",
       "2                news coronavirus     61\n",
       "3                          corona     58\n",
       "4                  uk coronavirus     54\n",
       "5               coronavirus india     48\n",
       "6            coronavirus symptoms     43\n",
       "7   thank you coronavirus helpers     38\n",
       "8                coronavirus tips     34\n",
       "9                 coronavirus map     32\n",
       "10                coronavirus usa     32\n",
       "11              world coronavirus     29\n",
       "12                 us coronavirus     29\n",
       "13             coronavirus france     27\n",
       "14             italia coronavirus     26\n",
       "15                   corona virus     26\n",
       "16             coronavirus deaths     26\n",
       "17               coronavirus live     25\n",
       "18        worldometer coronavirus     23\n",
       "19              coronavirus china     23\n",
       "20             españa coronavirus     23\n",
       "21             coronavirus españa     23\n",
       "22                    worldometer     22\n",
       "23           coronavirus in india     22\n",
       "24                       covid 19     21, 'rising':                                                 query   value\n",
       "0                       thank you coronavirus helpers  205550\n",
       "1                             worldometer coronavirus  125000\n",
       "2                                         worldometer  120800\n",
       "3                                            covid 19  111250\n",
       "4                                   coronavirus stats   61850\n",
       "5                             india coronavirus cases   42900\n",
       "6                             coronavirus update live   38650\n",
       "7                                us coronavirus cases   37500\n",
       "8                                            covid-19   36750\n",
       "9                               coronavirus no brasil   35950\n",
       "10                              coronavirus deaths uk   35600\n",
       "11                           coronavirus india update   35300\n",
       "12                           coronavirus update india   35150\n",
       "13                                    coronavirus nyc   33700\n",
       "14                         coronavirus cases in india   29550\n",
       "15                           john hopkins coronavirus   28100\n",
       "16                            coronavirus ultima hora   27700\n",
       "17                               coronavirus by state   27050\n",
       "18  merci à tous ceux qui aident à combattre le co...   25900\n",
       "19                         ultime notizie coronavirus   25200\n",
       "20                             coronavirus by country   25050\n",
       "21                                  wuhan coronavirus   23650\n",
       "22                           worldometers coronavirus   23400\n",
       "23                                     nj coronavirus   21900\n",
       "24                         coronavirus estados unidos   21100}])"
      ]
     },
     "execution_count": 20,
     "metadata": {},
     "output_type": "execute_result"
    }
   ],
   "source": [
    "pytrend.build_payload(kw_list=['Coronavirus'])\n",
    "related_queries = pytrend.related_queries()\n",
    "related_queries.values()"
   ]
  },
  {
   "cell_type": "markdown",
   "metadata": {},
   "source": [
    "# Data Cleaning Google Trends\n",
    "** Insert plans for data cleaning here"
   ]
  },
  {
   "cell_type": "markdown",
   "metadata": {},
   "source": [
    "# Data Collection Corona Case Data\n",
    "** Insert brief explaination of how we collected data here"
   ]
  },
  {
   "cell_type": "markdown",
   "metadata": {},
   "source": [
    "# Data Cleaning Corona Case Data\n",
    "** Insert plan / steps for data cleaning here"
   ]
  },
  {
   "cell_type": "markdown",
   "metadata": {},
   "source": [
    "# Data Description \n",
    "** Insert desciption here"
   ]
  },
  {
   "cell_type": "markdown",
   "metadata": {},
   "source": [
    "# Data Limitations\n",
    "** Insert data limitations here"
   ]
  },
  {
   "cell_type": "markdown",
   "metadata": {},
   "source": [
    "# Exploratory data analysis\n",
    "** Insert exploratory data analysis here"
   ]
  },
  {
   "cell_type": "markdown",
   "metadata": {},
   "source": [
    "# Questions for reviewer\n",
    "** Insert questions for reviewer here"
   ]
  }
 ],
 "metadata": {
  "kernelspec": {
   "display_name": "Python 3",
   "language": "python",
   "name": "python3"
  },
  "language_info": {
   "codemirror_mode": {
    "name": "ipython",
    "version": 3
   },
   "file_extension": ".py",
   "mimetype": "text/x-python",
   "name": "python",
   "nbconvert_exporter": "python",
   "pygments_lexer": "ipython3",
   "version": "3.7.9"
  }
 },
 "nbformat": 4,
 "nbformat_minor": 4
}
